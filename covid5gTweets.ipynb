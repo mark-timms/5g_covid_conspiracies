{
 "cells": [
  {
   "cell_type": "code",
   "execution_count": null,
   "metadata": {},
   "outputs": [],
   "source": [
    "# (1) install + import GetOldTweets3 + Pandas\n",
    "# (2) define tweet scraping function | https://towardsdatascience.com/how-to-scrape-tweets-from-twitter-59287e20f0f1\n",
    "# (3) scrape twitter + store tweets to .csv files for each search term\n",
    "# (4) merge .csv files + drop duplicates\n",
    "# (5) clean final CSV | (a) separate #'s by column + (b) convert relevant data to strings\n",
    "# (5) inspect data | identify features\n",
    "# (6) Visualize features\n",
    "# (7) GLM // Feature exploration"
   ]
  },
  {
   "cell_type": "code",
   "execution_count": 1,
   "metadata": {},
   "outputs": [],
   "source": [
    "#build the dataset \n",
    "\n",
    "import GetOldTweets3 as got\n",
    "import pandas as pd"
   ]
  },
  {
   "cell_type": "code",
   "execution_count": 2,
   "metadata": {},
   "outputs": [],
   "source": [
    "\n",
    "# Parameters: (text query you want to search), (max number of most recent tweets to pull from)\n",
    "def text_query_to_csv(text_query, count):\n",
    "    # Creation of query object\n",
    "    tweetCriteria = got.manager.TweetCriteria().setQuerySearch(text_query)\\\n",
    "                                                .setMaxTweets(count)\\\n",
    "                                            .setSince(\"2020-04-01\")\\\n",
    "                                        .setUntil(\"2020-06-10\")\\\n",
    "                                    .setEmoji(\"unicode\")\n",
    "    # Creation of list that contains all tweets\n",
    "    tweets = got.manager.TweetManager.getTweets(tweetCriteria)\n",
    "\n",
    "    # Creating list of chosen tweet data\n",
    "    text_tweets = [[\n",
    "        tweet.id, #(str)\n",
    "        tweet.permalink, #(str)\n",
    "        tweet.username, #(str)\n",
    "        tweet.to, #(str)\n",
    "        tweet.retweets, #(int)\n",
    "        tweet.favorites, #(int)\n",
    "        tweet.mentions, #(str)\n",
    "        tweet.hashtags, #(str)\n",
    "        tweet.geo, #(str)\n",
    "        tweet.date, #(datetime) in UTC\n",
    "        tweet.text #(str)\n",
    "    ] for tweet in tweets]\n",
    "\n",
    "    # Creation of dataframe from tweets\n",
    "    tweets_df = pd.DataFrame(text_tweets, columns = [\n",
    "        'id',\n",
    "        'permalink', \n",
    "        'username',\n",
    "        'to',\n",
    "        'retweets',\n",
    "        'favorites',\n",
    "        'mentions', \n",
    "        'hashtags',\n",
    "        'geo', \n",
    "        'date',\n",
    "        'text'\n",
    "    ])\n",
    "\n",
    "    # Converting tweets dataframe to csv file\n",
    "    tweets_df.to_csv('{}-{}k-tweets.csv'.format(text_query, int(count/1000)), sep=',')"
   ]
  },
  {
   "cell_type": "code",
   "execution_count": 4,
   "metadata": {},
   "outputs": [],
   "source": [
    "# Input search query to scrape tweets and name csv file\n",
    "# Max recent tweets pulls x amount of most recent tweets matching search terms\n",
    "text_query = '#5Gcoronavirus' or '5Gcoronavirus'\n",
    "count = 25000 #<- no count = pulls every available tweet between defined function range\n",
    "\n",
    "# Calling function to query X amount of relevant tweets and create a CSV file\n",
    "text_query_to_csv(text_query, count)"
   ]
  },
  {
   "cell_type": "code",
   "execution_count": 5,
   "metadata": {},
   "outputs": [],
   "source": [
    "text_query = '#stop5G' or 'stop5G'\n",
    "\n",
    "text_query_to_csv(text_query, count)"
   ]
  },
  {
   "cell_type": "code",
   "execution_count": 6,
   "metadata": {},
   "outputs": [],
   "source": [
    "text_query = '#5Gdangers' or '5Gdangers'\n",
    "\n",
    "text_query_to_csv(text_query, count)"
   ]
  },
  {
   "cell_type": "code",
   "execution_count": 7,
   "metadata": {},
   "outputs": [],
   "source": [
    "text_query = '#5Gconspiracy' or '5Gconspiracy'\n",
    "\n",
    "text_query_to_csv(text_query, count)"
   ]
  },
  {
   "cell_type": "code",
   "execution_count": 8,
   "metadata": {},
   "outputs": [],
   "source": [
    "text_query = '#5Gtruth' or '5Gtruth'\n",
    "\n",
    "text_query_to_csv(text_query, count)"
   ]
  },
  {
   "cell_type": "code",
   "execution_count": 9,
   "metadata": {},
   "outputs": [],
   "source": [
    "text_query = '#5Gtowers' or '5Gtowers'\n",
    "\n",
    "text_query_to_csv(text_query, count)"
   ]
  },
  {
   "cell_type": "code",
   "execution_count": 10,
   "metadata": {},
   "outputs": [],
   "source": [
    "text_query = '#5Gkills' or '5Gkills'\n",
    "\n",
    "text_query_to_csv(text_query, count)"
   ]
  },
  {
   "cell_type": "code",
   "execution_count": 11,
   "metadata": {},
   "outputs": [],
   "source": [
    "text_query = '#5Gcanada' or '5Gcanada'\n",
    "\n",
    "text_query_to_csv(text_query, count)"
   ]
  },
  {
   "cell_type": "code",
   "execution_count": 12,
   "metadata": {},
   "outputs": [],
   "source": [
    "text_query = '#nohuawei' or 'nohuawei'\n",
    "\n",
    "text_query_to_csv(text_query, count)"
   ]
  },
  {
   "cell_type": "code",
   "execution_count": 13,
   "metadata": {},
   "outputs": [],
   "source": [
    "text_query = '#no5G' or 'no5G'\n",
    "\n",
    "text_query_to_csv(text_query, count)"
   ]
  },
  {
   "cell_type": "code",
   "execution_count": 14,
   "metadata": {},
   "outputs": [],
   "source": [
    "text_query = '#5Gvirus' or '5Gvirus'\n",
    "count = 25000\n",
    "\n",
    "text_query_to_csv(text_query, count)"
   ]
  },
  {
   "cell_type": "code",
   "execution_count": 15,
   "metadata": {},
   "outputs": [],
   "source": [
    "text_query = '#saynoto5G' or 'saynoto5G'\n",
    "count = 25000\n",
    "\n",
    "text_query_to_csv(text_query, count)"
   ]
  },
  {
   "cell_type": "code",
   "execution_count": null,
   "metadata": {},
   "outputs": [],
   "source": [
    "# merge CSV files && drop duplicates\n",
    "\n",
    "    # https://stackoverflow.com/questions/38172215/join-two-csv-files-with-pandas-python-without-duplicates"
   ]
  },
  {
   "cell_type": "code",
   "execution_count": 16,
   "metadata": {},
   "outputs": [
    {
     "name": "stdout",
     "output_type": "stream",
     "text": [
      "(26582, 12)\n"
     ]
    }
   ],
   "source": [
    "# import pandas as pd\n",
    "\n",
    "df1=pd.read_csv(\"#5Gcoronavirus-25k-tweets.csv\")\n",
    "df2=pd.read_csv(\"#stop5G-25k-tweets.csv\")\n",
    "df3=pd.read_csv(\"#5Gdangers-25k-tweets.csv\")\n",
    "df4=pd.read_csv(\"#5Gconspiracy-25k-tweets.csv\")\n",
    "df5=pd.read_csv(\"#5Gtruth-25k-tweets.csv\")\n",
    "df6=pd.read_csv(\"#5Gtowers-25k-tweets.csv\")\n",
    "df7=pd.read_csv(\"#5Gkills-25k-tweets.csv\")\n",
    "df8=pd.read_csv(\"#5Gcanada-25k-tweets.csv\")\n",
    "df9=pd.read_csv(\"#nohuawei-25k-tweets.csv\")\n",
    "df10=pd.read_csv(\"#no5G-25k-tweets.csv\")\n",
    "df11=pd.read_csv(\"#5Gvirus-25k-tweets.csv\")\n",
    "df12=pd.read_csv(\"#saynoto5G-25k-tweets.csv\")\n",
    "\n",
    "df_final=pd.concat([df1,\n",
    "                    df2,\n",
    "                    df3,\n",
    "                    df4,\n",
    "                    df5,\n",
    "                    df6,\n",
    "                    df7,\n",
    "                    df8,\n",
    "                    df9,\n",
    "                    df10,\n",
    "                    df11,\n",
    "                    df12\n",
    "                   ]).drop_duplicates(subset=[\n",
    "    'id',\n",
    "    'permalink', \n",
    "    'username',\n",
    "    'to',\n",
    "    'retweets',\n",
    "    'favorites',\n",
    "    'mentions', \n",
    "    'hashtags',\n",
    "    'geo', \n",
    "    'date',\n",
    "    'text'\n",
    "]).reset_index(drop=True)\n",
    "\n",
    "print(df_final.shape)\n",
    "\n",
    "df_final2=df_final.drop_duplicates(subset=[    \n",
    "    'id',\n",
    "    'permalink', \n",
    "    'username',\n",
    "    'to',\n",
    "    'retweets',\n",
    "    'favorites',\n",
    "    'mentions', \n",
    "    'hashtags',\n",
    "    'geo', \n",
    "    'date',\n",
    "    'text'\n",
    "]).reset_index(drop=True)\n",
    "\n",
    "df_final2.to_csv('final.csv', index=False)"
   ]
  },
  {
   "cell_type": "code",
   "execution_count": 17,
   "metadata": {},
   "outputs": [],
   "source": [
    "import pandas as pd\n",
    "import numpy as np\n",
    "import matplotlib.pyplot as plt\n",
    "%matplotlib inline"
   ]
  },
  {
   "cell_type": "code",
   "execution_count": 18,
   "metadata": {},
   "outputs": [
    {
     "data": {
      "text/html": [
       "<div>\n",
       "<style scoped>\n",
       "    .dataframe tbody tr th:only-of-type {\n",
       "        vertical-align: middle;\n",
       "    }\n",
       "\n",
       "    .dataframe tbody tr th {\n",
       "        vertical-align: top;\n",
       "    }\n",
       "\n",
       "    .dataframe thead th {\n",
       "        text-align: right;\n",
       "    }\n",
       "</style>\n",
       "<table border=\"1\" class=\"dataframe\">\n",
       "  <thead>\n",
       "    <tr style=\"text-align: right;\">\n",
       "      <th></th>\n",
       "      <th>Unnamed: 0</th>\n",
       "      <th>id</th>\n",
       "      <th>permalink</th>\n",
       "      <th>username</th>\n",
       "      <th>to</th>\n",
       "      <th>retweets</th>\n",
       "      <th>favorites</th>\n",
       "      <th>mentions</th>\n",
       "      <th>hashtags</th>\n",
       "      <th>geo</th>\n",
       "      <th>date</th>\n",
       "      <th>text</th>\n",
       "    </tr>\n",
       "  </thead>\n",
       "  <tbody>\n",
       "  </tbody>\n",
       "</table>\n",
       "</div>"
      ],
      "text/plain": [
       "Empty DataFrame\n",
       "Columns: [Unnamed: 0, id, permalink, username, to, retweets, favorites, mentions, hashtags, geo, date, text]\n",
       "Index: []"
      ]
     },
     "execution_count": 18,
     "metadata": {},
     "output_type": "execute_result"
    }
   ],
   "source": [
    "df = pd.read_csv(\"final.csv\")\n",
    "df.dropna()"
   ]
  },
  {
   "cell_type": "code",
   "execution_count": 19,
   "metadata": {},
   "outputs": [
    {
     "data": {
      "text/html": [
       "<div>\n",
       "<style scoped>\n",
       "    .dataframe tbody tr th:only-of-type {\n",
       "        vertical-align: middle;\n",
       "    }\n",
       "\n",
       "    .dataframe tbody tr th {\n",
       "        vertical-align: top;\n",
       "    }\n",
       "\n",
       "    .dataframe thead th {\n",
       "        text-align: right;\n",
       "    }\n",
       "</style>\n",
       "<table border=\"1\" class=\"dataframe\">\n",
       "  <thead>\n",
       "    <tr style=\"text-align: right;\">\n",
       "      <th></th>\n",
       "      <th>Unnamed: 0</th>\n",
       "      <th>id</th>\n",
       "      <th>permalink</th>\n",
       "      <th>username</th>\n",
       "      <th>to</th>\n",
       "      <th>retweets</th>\n",
       "      <th>favorites</th>\n",
       "      <th>mentions</th>\n",
       "      <th>hashtags</th>\n",
       "      <th>geo</th>\n",
       "      <th>date</th>\n",
       "      <th>text</th>\n",
       "    </tr>\n",
       "  </thead>\n",
       "  <tbody>\n",
       "    <tr>\n",
       "      <th>0</th>\n",
       "      <td>0</td>\n",
       "      <td>1270476287912665088</td>\n",
       "      <td>https://twitter.com/No_Democrats/status/127047...</td>\n",
       "      <td>No_Democrats</td>\n",
       "      <td>NaN</td>\n",
       "      <td>0</td>\n",
       "      <td>0</td>\n",
       "      <td>@realDonaldTrump @cspanwj</td>\n",
       "      <td>#news #facebook #BREAKING #BreakingNews #5GCor...</td>\n",
       "      <td>NaN</td>\n",
       "      <td>2020-06-09 22:02:06+00:00</td>\n",
       "      <td>Stand Up: The Level Playing Field https://yout...</td>\n",
       "    </tr>\n",
       "    <tr>\n",
       "      <th>1</th>\n",
       "      <td>1</td>\n",
       "      <td>1270457391469993984</td>\n",
       "      <td>https://twitter.com/MAK7PIA/status/12704573914...</td>\n",
       "      <td>MAK7PIA</td>\n",
       "      <td>Huawei</td>\n",
       "      <td>0</td>\n",
       "      <td>0</td>\n",
       "      <td>NaN</td>\n",
       "      <td>#5GCoronavirus #SatanicSystem #WakeUp #5GCoron...</td>\n",
       "      <td>NaN</td>\n",
       "      <td>2020-06-09 20:47:00+00:00</td>\n",
       "      <td>#5GCoronavirus #SatanicSystem #WakeUp #5GCoron...</td>\n",
       "    </tr>\n",
       "    <tr>\n",
       "      <th>2</th>\n",
       "      <td>2</td>\n",
       "      <td>1270366943074189313</td>\n",
       "      <td>https://twitter.com/lena76300134/status/127036...</td>\n",
       "      <td>lena76300134</td>\n",
       "      <td>AnitaJimen</td>\n",
       "      <td>0</td>\n",
       "      <td>0</td>\n",
       "      <td>NaN</td>\n",
       "      <td>#Huawei #a #5GCoronavirus #5Gradiofrecuencia</td>\n",
       "      <td>NaN</td>\n",
       "      <td>2020-06-09 14:47:36+00:00</td>\n",
       "      <td>No te vayas!; Yo solo me iré cuando hayan gana...</td>\n",
       "    </tr>\n",
       "    <tr>\n",
       "      <th>3</th>\n",
       "      <td>3</td>\n",
       "      <td>1270349913138827266</td>\n",
       "      <td>https://twitter.com/Swildee/status/12703499131...</td>\n",
       "      <td>Swildee</td>\n",
       "      <td>NaN</td>\n",
       "      <td>0</td>\n",
       "      <td>0</td>\n",
       "      <td>@drbobgill @strandpublishuk @stand_upX @BigNar...</td>\n",
       "      <td>#StopCovid #stop5g #stop5gnow #5g #5GCoronavir...</td>\n",
       "      <td>NaN</td>\n",
       "      <td>2020-06-09 13:39:55+00:00</td>\n",
       "      <td>#StopCovid #stop5g #stop5gnow #5g #5GCoronavir...</td>\n",
       "    </tr>\n",
       "    <tr>\n",
       "      <th>4</th>\n",
       "      <td>4</td>\n",
       "      <td>1270348857747144705</td>\n",
       "      <td>https://twitter.com/starryknight776/status/127...</td>\n",
       "      <td>starryknight776</td>\n",
       "      <td>NaN</td>\n",
       "      <td>0</td>\n",
       "      <td>0</td>\n",
       "      <td>NaN</td>\n",
       "      <td>#stop5g #stop5gnow #5g #5GCoronavirus #5gcrisi...</td>\n",
       "      <td>NaN</td>\n",
       "      <td>2020-06-09 13:35:44+00:00</td>\n",
       "      <td>#stop5g #stop5gnow #5g #5GCoronavirus #5gcrisi...</td>\n",
       "    </tr>\n",
       "  </tbody>\n",
       "</table>\n",
       "</div>"
      ],
      "text/plain": [
       "   Unnamed: 0                   id  \\\n",
       "0           0  1270476287912665088   \n",
       "1           1  1270457391469993984   \n",
       "2           2  1270366943074189313   \n",
       "3           3  1270349913138827266   \n",
       "4           4  1270348857747144705   \n",
       "\n",
       "                                           permalink         username  \\\n",
       "0  https://twitter.com/No_Democrats/status/127047...     No_Democrats   \n",
       "1  https://twitter.com/MAK7PIA/status/12704573914...          MAK7PIA   \n",
       "2  https://twitter.com/lena76300134/status/127036...     lena76300134   \n",
       "3  https://twitter.com/Swildee/status/12703499131...          Swildee   \n",
       "4  https://twitter.com/starryknight776/status/127...  starryknight776   \n",
       "\n",
       "           to  retweets  favorites  \\\n",
       "0         NaN         0          0   \n",
       "1      Huawei         0          0   \n",
       "2  AnitaJimen         0          0   \n",
       "3         NaN         0          0   \n",
       "4         NaN         0          0   \n",
       "\n",
       "                                            mentions  \\\n",
       "0                          @realDonaldTrump @cspanwj   \n",
       "1                                                NaN   \n",
       "2                                                NaN   \n",
       "3  @drbobgill @strandpublishuk @stand_upX @BigNar...   \n",
       "4                                                NaN   \n",
       "\n",
       "                                            hashtags  geo  \\\n",
       "0  #news #facebook #BREAKING #BreakingNews #5GCor...  NaN   \n",
       "1  #5GCoronavirus #SatanicSystem #WakeUp #5GCoron...  NaN   \n",
       "2       #Huawei #a #5GCoronavirus #5Gradiofrecuencia  NaN   \n",
       "3  #StopCovid #stop5g #stop5gnow #5g #5GCoronavir...  NaN   \n",
       "4  #stop5g #stop5gnow #5g #5GCoronavirus #5gcrisi...  NaN   \n",
       "\n",
       "                        date  \\\n",
       "0  2020-06-09 22:02:06+00:00   \n",
       "1  2020-06-09 20:47:00+00:00   \n",
       "2  2020-06-09 14:47:36+00:00   \n",
       "3  2020-06-09 13:39:55+00:00   \n",
       "4  2020-06-09 13:35:44+00:00   \n",
       "\n",
       "                                                text  \n",
       "0  Stand Up: The Level Playing Field https://yout...  \n",
       "1  #5GCoronavirus #SatanicSystem #WakeUp #5GCoron...  \n",
       "2  No te vayas!; Yo solo me iré cuando hayan gana...  \n",
       "3  #StopCovid #stop5g #stop5gnow #5g #5GCoronavir...  \n",
       "4  #stop5g #stop5gnow #5g #5GCoronavirus #5gcrisi...  "
      ]
     },
     "execution_count": 19,
     "metadata": {},
     "output_type": "execute_result"
    }
   ],
   "source": [
    "df.head()"
   ]
  },
  {
   "cell_type": "code",
   "execution_count": 28,
   "metadata": {},
   "outputs": [],
   "source": [
    "#Use the .str string accessor to perform string operations on DataFrames. In particular, you want .str.len:\n",
    "\n",
    "df['text_length']  = df['text'].str.len()\n",
    "\n",
    "text_length = df.groupby('text_length')['retweets'].sum().sort_values()"
   ]
  },
  {
   "cell_type": "code",
   "execution_count": 29,
   "metadata": {},
   "outputs": [],
   "source": [
    "hashtag_frequency = df.groupby('hashtags')['text_length'].sum().sort_values()"
   ]
  },
  {
   "cell_type": "code",
   "execution_count": 30,
   "metadata": {},
   "outputs": [
    {
     "data": {
      "text/plain": [
       "hashtags\n",
       "#noHuawei       9\n",
       "#5gcanada       9\n",
       "#Saynoto5g     10\n",
       "#No5g          11\n",
       "#No5G #noAI    11\n",
       "Name: text_length, dtype: int64"
      ]
     },
     "execution_count": 30,
     "metadata": {},
     "output_type": "execute_result"
    }
   ],
   "source": [
    "hashtag_frequency.head()"
   ]
  },
  {
   "cell_type": "code",
   "execution_count": 31,
   "metadata": {},
   "outputs": [],
   "source": [
    "# plt.figure(figsize=(6,10))\n",
    "# plt.barh(hashtag_frequency.index, hashtag_frequency)"
   ]
  },
  {
   "cell_type": "code",
   "execution_count": 32,
   "metadata": {},
   "outputs": [],
   "source": [
    "df['hashtag_length'] = df['hashtags'].str.len()"
   ]
  },
  {
   "cell_type": "code",
   "execution_count": 33,
   "metadata": {},
   "outputs": [
    {
     "data": {
      "text/plain": [
       "14483"
      ]
     },
     "execution_count": 33,
     "metadata": {},
     "output_type": "execute_result"
    }
   ],
   "source": [
    "df['hashtags'].nunique()"
   ]
  },
  {
   "cell_type": "code",
   "execution_count": 34,
   "metadata": {},
   "outputs": [
    {
     "data": {
      "text/plain": [
       "14.0     2732\n",
       "7.0      1035\n",
       "8.0       971\n",
       "18.0      756\n",
       "23.0      631\n",
       "         ... \n",
       "296.0       1\n",
       "281.0       1\n",
       "285.0       1\n",
       "314.0       1\n",
       "282.0       1\n",
       "Name: hashtag_length, Length: 286, dtype: int64"
      ]
     },
     "execution_count": 34,
     "metadata": {},
     "output_type": "execute_result"
    }
   ],
   "source": [
    "df['hashtag_length'].value_counts()"
   ]
  },
  {
   "cell_type": "code",
   "execution_count": 35,
   "metadata": {},
   "outputs": [
    {
     "data": {
      "text/plain": [
       "text_length\n",
       "5      0\n",
       "443    0\n",
       "432    0\n",
       "417    0\n",
       "414    0\n",
       "Name: retweets, dtype: int64"
      ]
     },
     "execution_count": 35,
     "metadata": {},
     "output_type": "execute_result"
    }
   ],
   "source": [
    "text_length.head()"
   ]
  },
  {
   "cell_type": "code",
   "execution_count": 37,
   "metadata": {},
   "outputs": [],
   "source": [
    "hashtag_size = df.groupby('retweets')['hashtag_length'].sum().sort_values()"
   ]
  },
  {
   "cell_type": "code",
   "execution_count": 38,
   "metadata": {},
   "outputs": [
    {
     "data": {
      "text/plain": [
       "retweets\n",
       "72     5.0\n",
       "151    5.0\n",
       "680    7.0\n",
       "109    7.0\n",
       "137    7.0\n",
       "Name: hashtag_length, dtype: float64"
      ]
     },
     "execution_count": 38,
     "metadata": {},
     "output_type": "execute_result"
    }
   ],
   "source": [
    "hashtag_size.head()"
   ]
  },
  {
   "cell_type": "code",
   "execution_count": 39,
   "metadata": {},
   "outputs": [
    {
     "data": {
      "image/png": "[encoded data removed]",
      "text/plain": [
       "<Figure size 432x288 with 1 Axes>"
      ]
     },
     "metadata": {
      "needs_background": "light"
     },
     "output_type": "display_data"
    }
   ],
   "source": [
    "plt.figure()\n",
    "plt.scatter(df['hashtag_length'],df['retweets'])\n",
    "plt.xlabel('Hashtag Length', size=12)\n",
    "plt.ylabel('Retweets', size=12)\n",
    "\n",
    "#plt.xlim(0, 200)\n",
    "#plt.ylim(0, 20)\n",
    "\n",
    "plt.show()"
   ]
  },
  {
   "cell_type": "code",
   "execution_count": 45,
   "metadata": {},
   "outputs": [
    {
     "data": {
      "image/png": "[encoded data removed]",
      "text/plain": [
       "<Figure size 432x288 with 1 Axes>"
      ]
     },
     "metadata": {
      "needs_background": "light"
     },
     "output_type": "display_data"
    }
   ],
   "source": [
    "plt.figure()\n",
    "plt.scatter(df['favorites'],df['retweets'])\n",
    "plt.xlabel('Favourites', size=12)\n",
    "plt.ylabel('Retweets', size=12)\n",
    "\n",
    "#plt.ylim(0, 20)\n",
    "\n",
    "plt.show()"
   ]
  },
  {
   "cell_type": "code",
   "execution_count": 41,
   "metadata": {},
   "outputs": [
    {
     "data": {
      "image/png": "[encoded data removed]",
      "text/plain": [
       "<Figure size 432x288 with 1 Axes>"
      ]
     },
     "metadata": {
      "needs_background": "light"
     },
     "output_type": "display_data"
    }
   ],
   "source": [
    "plt.figure()\n",
    "plt.scatter(df['text_length'],df['retweets'])\n",
    "plt.xlabel('Message Length', size=12)\n",
    "plt.ylabel('Retweets', size=12)\n",
    "\n",
    "#plt.xlim(0, 500)\n",
    "#plt.ylim(0, 300)\n",
    "\n",
    "plt.show()"
   ]
  },
  {
   "cell_type": "code",
   "execution_count": 46,
   "metadata": {},
   "outputs": [],
   "source": [
    "df.dropna()\n",
    "df['hashtag_length'] = df['hashtag_length'].fillna(0)"
   ]
  },
  {
   "cell_type": "code",
   "execution_count": 47,
   "metadata": {},
   "outputs": [
    {
     "data": {
      "text/html": [
       "<div>\n",
       "<style scoped>\n",
       "    .dataframe tbody tr th:only-of-type {\n",
       "        vertical-align: middle;\n",
       "    }\n",
       "\n",
       "    .dataframe tbody tr th {\n",
       "        vertical-align: top;\n",
       "    }\n",
       "\n",
       "    .dataframe thead th {\n",
       "        text-align: right;\n",
       "    }\n",
       "</style>\n",
       "<table border=\"1\" class=\"dataframe\">\n",
       "  <thead>\n",
       "    <tr style=\"text-align: right;\">\n",
       "      <th></th>\n",
       "      <th>Unnamed: 0</th>\n",
       "      <th>id</th>\n",
       "      <th>permalink</th>\n",
       "      <th>username</th>\n",
       "      <th>to</th>\n",
       "      <th>retweets</th>\n",
       "      <th>favorites</th>\n",
       "      <th>mentions</th>\n",
       "      <th>hashtags</th>\n",
       "      <th>geo</th>\n",
       "      <th>date</th>\n",
       "      <th>text</th>\n",
       "      <th>text_length</th>\n",
       "      <th>hashtag_length</th>\n",
       "    </tr>\n",
       "  </thead>\n",
       "  <tbody>\n",
       "    <tr>\n",
       "      <th>0</th>\n",
       "      <td>0</td>\n",
       "      <td>1270476287912665088</td>\n",
       "      <td>https://twitter.com/No_Democrats/status/127047...</td>\n",
       "      <td>No_Democrats</td>\n",
       "      <td>NaN</td>\n",
       "      <td>0</td>\n",
       "      <td>0</td>\n",
       "      <td>@realDonaldTrump @cspanwj</td>\n",
       "      <td>#news #facebook #BREAKING #BreakingNews #5GCor...</td>\n",
       "      <td>NaN</td>\n",
       "      <td>2020-06-09 22:02:06+00:00</td>\n",
       "      <td>Stand Up: The Level Playing Field https://yout...</td>\n",
       "      <td>281</td>\n",
       "      <td>154.0</td>\n",
       "    </tr>\n",
       "    <tr>\n",
       "      <th>1</th>\n",
       "      <td>1</td>\n",
       "      <td>1270457391469993984</td>\n",
       "      <td>https://twitter.com/MAK7PIA/status/12704573914...</td>\n",
       "      <td>MAK7PIA</td>\n",
       "      <td>Huawei</td>\n",
       "      <td>0</td>\n",
       "      <td>0</td>\n",
       "      <td>NaN</td>\n",
       "      <td>#5GCoronavirus #SatanicSystem #WakeUp #5GCoron...</td>\n",
       "      <td>NaN</td>\n",
       "      <td>2020-06-09 20:47:00+00:00</td>\n",
       "      <td>#5GCoronavirus #SatanicSystem #WakeUp #5GCoron...</td>\n",
       "      <td>51</td>\n",
       "      <td>51.0</td>\n",
       "    </tr>\n",
       "    <tr>\n",
       "      <th>2</th>\n",
       "      <td>2</td>\n",
       "      <td>1270366943074189313</td>\n",
       "      <td>https://twitter.com/lena76300134/status/127036...</td>\n",
       "      <td>lena76300134</td>\n",
       "      <td>AnitaJimen</td>\n",
       "      <td>0</td>\n",
       "      <td>0</td>\n",
       "      <td>NaN</td>\n",
       "      <td>#Huawei #a #5GCoronavirus #5Gradiofrecuencia</td>\n",
       "      <td>NaN</td>\n",
       "      <td>2020-06-09 14:47:36+00:00</td>\n",
       "      <td>No te vayas!; Yo solo me iré cuando hayan gana...</td>\n",
       "      <td>195</td>\n",
       "      <td>44.0</td>\n",
       "    </tr>\n",
       "    <tr>\n",
       "      <th>3</th>\n",
       "      <td>3</td>\n",
       "      <td>1270349913138827266</td>\n",
       "      <td>https://twitter.com/Swildee/status/12703499131...</td>\n",
       "      <td>Swildee</td>\n",
       "      <td>NaN</td>\n",
       "      <td>0</td>\n",
       "      <td>0</td>\n",
       "      <td>@drbobgill @strandpublishuk @stand_upX @BigNar...</td>\n",
       "      <td>#StopCovid #stop5g #stop5gnow #5g #5GCoronavir...</td>\n",
       "      <td>NaN</td>\n",
       "      <td>2020-06-09 13:39:55+00:00</td>\n",
       "      <td>#StopCovid #stop5g #stop5gnow #5g #5GCoronavir...</td>\n",
       "      <td>231</td>\n",
       "      <td>176.0</td>\n",
       "    </tr>\n",
       "    <tr>\n",
       "      <th>4</th>\n",
       "      <td>4</td>\n",
       "      <td>1270348857747144705</td>\n",
       "      <td>https://twitter.com/starryknight776/status/127...</td>\n",
       "      <td>starryknight776</td>\n",
       "      <td>NaN</td>\n",
       "      <td>0</td>\n",
       "      <td>0</td>\n",
       "      <td>NaN</td>\n",
       "      <td>#stop5g #stop5gnow #5g #5GCoronavirus #5gcrisi...</td>\n",
       "      <td>NaN</td>\n",
       "      <td>2020-06-09 13:35:44+00:00</td>\n",
       "      <td>#stop5g #stop5gnow #5g #5GCoronavirus #5gcrisi...</td>\n",
       "      <td>214</td>\n",
       "      <td>214.0</td>\n",
       "    </tr>\n",
       "  </tbody>\n",
       "</table>\n",
       "</div>"
      ],
      "text/plain": [
       "   Unnamed: 0                   id  \\\n",
       "0           0  1270476287912665088   \n",
       "1           1  1270457391469993984   \n",
       "2           2  1270366943074189313   \n",
       "3           3  1270349913138827266   \n",
       "4           4  1270348857747144705   \n",
       "\n",
       "                                           permalink         username  \\\n",
       "0  https://twitter.com/No_Democrats/status/127047...     No_Democrats   \n",
       "1  https://twitter.com/MAK7PIA/status/12704573914...          MAK7PIA   \n",
       "2  https://twitter.com/lena76300134/status/127036...     lena76300134   \n",
       "3  https://twitter.com/Swildee/status/12703499131...          Swildee   \n",
       "4  https://twitter.com/starryknight776/status/127...  starryknight776   \n",
       "\n",
       "           to  retweets  favorites  \\\n",
       "0         NaN         0          0   \n",
       "1      Huawei         0          0   \n",
       "2  AnitaJimen         0          0   \n",
       "3         NaN         0          0   \n",
       "4         NaN         0          0   \n",
       "\n",
       "                                            mentions  \\\n",
       "0                          @realDonaldTrump @cspanwj   \n",
       "1                                                NaN   \n",
       "2                                                NaN   \n",
       "3  @drbobgill @strandpublishuk @stand_upX @BigNar...   \n",
       "4                                                NaN   \n",
       "\n",
       "                                            hashtags  geo  \\\n",
       "0  #news #facebook #BREAKING #BreakingNews #5GCor...  NaN   \n",
       "1  #5GCoronavirus #SatanicSystem #WakeUp #5GCoron...  NaN   \n",
       "2       #Huawei #a #5GCoronavirus #5Gradiofrecuencia  NaN   \n",
       "3  #StopCovid #stop5g #stop5gnow #5g #5GCoronavir...  NaN   \n",
       "4  #stop5g #stop5gnow #5g #5GCoronavirus #5gcrisi...  NaN   \n",
       "\n",
       "                        date  \\\n",
       "0  2020-06-09 22:02:06+00:00   \n",
       "1  2020-06-09 20:47:00+00:00   \n",
       "2  2020-06-09 14:47:36+00:00   \n",
       "3  2020-06-09 13:39:55+00:00   \n",
       "4  2020-06-09 13:35:44+00:00   \n",
       "\n",
       "                                                text  text_length  \\\n",
       "0  Stand Up: The Level Playing Field https://yout...          281   \n",
       "1  #5GCoronavirus #SatanicSystem #WakeUp #5GCoron...           51   \n",
       "2  No te vayas!; Yo solo me iré cuando hayan gana...          195   \n",
       "3  #StopCovid #stop5g #stop5gnow #5g #5GCoronavir...          231   \n",
       "4  #stop5g #stop5gnow #5g #5GCoronavirus #5gcrisi...          214   \n",
       "\n",
       "   hashtag_length  \n",
       "0           154.0  \n",
       "1            51.0  \n",
       "2            44.0  \n",
       "3           176.0  \n",
       "4           214.0  "
      ]
     },
     "execution_count": 47,
     "metadata": {},
     "output_type": "execute_result"
    }
   ],
   "source": [
    "df.head()"
   ]
  },
  {
   "cell_type": "code",
   "execution_count": 48,
   "metadata": {},
   "outputs": [],
   "source": [
    "import seaborn as sns\n",
    "import numpy as np\n",
    "import pandas as pd\n",
    "from matplotlib import pyplot as plt\n",
    "pd.options.display.max_columns=500\n",
    "\n",
    "import sklearn as sk\n",
    "from sklearn import model_selection, metrics, linear_model, datasets, feature_selection, preprocessing"
   ]
  },
  {
   "cell_type": "code",
   "execution_count": 49,
   "metadata": {},
   "outputs": [],
   "source": [
    "features_to_include = [\n",
    "    'favorites',\n",
    "    'text_length',\n",
    "    'hashtag_length'\n",
    "]"
   ]
  },
  {
   "cell_type": "code",
   "execution_count": 50,
   "metadata": {},
   "outputs": [],
   "source": [
    "feature_importances = feature_selection.mutual_info_regression(df[features_to_include],df['retweets'])"
   ]
  },
  {
   "cell_type": "code",
   "execution_count": 51,
   "metadata": {},
   "outputs": [],
   "source": [
    "feat_importance_df = pd.DataFrame(list(zip(features_to_include,feature_importances)), columns=['feature','importance'])"
   ]
  },
  {
   "cell_type": "code",
   "execution_count": 52,
   "metadata": {},
   "outputs": [],
   "source": [
    "feat_importance_df.sort_values(by='importance', ascending=False, inplace=True)"
   ]
  },
  {
   "cell_type": "code",
   "execution_count": 53,
   "metadata": {},
   "outputs": [
    {
     "data": {
      "text/plain": [
       "['favorites', 'hashtag_length', 'text_length']"
      ]
     },
     "execution_count": 53,
     "metadata": {},
     "output_type": "execute_result"
    }
   ],
   "source": [
    "top_feats = [x for x in feat_importance_df['feature'][0:5]]\n",
    "top_feats"
   ]
  },
  {
   "cell_type": "code",
   "execution_count": 54,
   "metadata": {},
   "outputs": [
    {
     "data": {
      "text/html": [
       "<div>\n",
       "<style scoped>\n",
       "    .dataframe tbody tr th:only-of-type {\n",
       "        vertical-align: middle;\n",
       "    }\n",
       "\n",
       "    .dataframe tbody tr th {\n",
       "        vertical-align: top;\n",
       "    }\n",
       "\n",
       "    .dataframe thead th {\n",
       "        text-align: right;\n",
       "    }\n",
       "</style>\n",
       "<table border=\"1\" class=\"dataframe\">\n",
       "  <thead>\n",
       "    <tr style=\"text-align: right;\">\n",
       "      <th></th>\n",
       "      <th>feature</th>\n",
       "      <th>importance</th>\n",
       "    </tr>\n",
       "  </thead>\n",
       "  <tbody>\n",
       "    <tr>\n",
       "      <th>0</th>\n",
       "      <td>favorites</td>\n",
       "      <td>0.353107</td>\n",
       "    </tr>\n",
       "    <tr>\n",
       "      <th>2</th>\n",
       "      <td>hashtag_length</td>\n",
       "      <td>0.013197</td>\n",
       "    </tr>\n",
       "    <tr>\n",
       "      <th>1</th>\n",
       "      <td>text_length</td>\n",
       "      <td>0.011455</td>\n",
       "    </tr>\n",
       "  </tbody>\n",
       "</table>\n",
       "</div>"
      ],
      "text/plain": [
       "          feature  importance\n",
       "0       favorites    0.353107\n",
       "2  hashtag_length    0.013197\n",
       "1     text_length    0.011455"
      ]
     },
     "execution_count": 54,
     "metadata": {},
     "output_type": "execute_result"
    }
   ],
   "source": [
    "feat_importance_df.head()"
   ]
  },
  {
   "cell_type": "code",
   "execution_count": 73,
   "metadata": {},
   "outputs": [],
   "source": [
    "reg = sk.linear_model.LinearRegression()"
   ]
  },
  {
   "cell_type": "code",
   "execution_count": 74,
   "metadata": {},
   "outputs": [],
   "source": [
    "regfit = reg.fit(df[top_feats], df['retweets'])"
   ]
  },
  {
   "cell_type": "code",
   "execution_count": 75,
   "metadata": {},
   "outputs": [
    {
     "data": {
      "text/plain": [
       "0.5257623764493244"
      ]
     },
     "execution_count": 75,
     "metadata": {},
     "output_type": "execute_result"
    }
   ],
   "source": [
    "regfit.score(df[top_feats], df['retweets'])"
   ]
  },
  {
   "cell_type": "code",
   "execution_count": 76,
   "metadata": {},
   "outputs": [],
   "source": [
    "y_fit = regfit.predict(df[top_feats])"
   ]
  },
  {
   "cell_type": "code",
   "execution_count": 77,
   "metadata": {},
   "outputs": [
    {
     "data": {
      "text/plain": [
       "<matplotlib.collections.PathCollection at 0x1a22119690>"
      ]
     },
     "execution_count": 77,
     "metadata": {},
     "output_type": "execute_result"
    },
    {
     "data": {
      "image/png": "[encoded data removed]",
      "text/plain": [
       "<Figure size 432x288 with 1 Axes>"
      ]
     },
     "metadata": {
      "needs_background": "light"
     },
     "output_type": "display_data"
    }
   ],
   "source": [
    "plt.scatter(df['retweets'], y_fit)\n",
    "\n",
    "#plt.xlim(0, 30)\n",
    "#plt.ylim(0, 50)\n"
   ]
  },
  {
   "cell_type": "code",
   "execution_count": 78,
   "metadata": {},
   "outputs": [],
   "source": [
    "RidgeReg = sk.linear_model.Ridge(alpha=5000)"
   ]
  },
  {
   "cell_type": "code",
   "execution_count": 79,
   "metadata": {},
   "outputs": [
    {
     "data": {
      "text/plain": [
       "Ridge(alpha=5000, copy_X=True, fit_intercept=True, max_iter=None,\n",
       "      normalize=False, random_state=None, solver='auto', tol=0.001)"
      ]
     },
     "execution_count": 79,
     "metadata": {},
     "output_type": "execute_result"
    }
   ],
   "source": [
    "RidgeReg.fit(df[top_feats],df['retweets'])"
   ]
  },
  {
   "cell_type": "code",
   "execution_count": 80,
   "metadata": {},
   "outputs": [
    {
     "data": {
      "text/plain": [
       "0.2583376398608169"
      ]
     },
     "execution_count": 80,
     "metadata": {},
     "output_type": "execute_result"
    }
   ],
   "source": [
    "max(RidgeReg.coef_)"
   ]
  },
  {
   "cell_type": "code",
   "execution_count": 81,
   "metadata": {},
   "outputs": [
    {
     "data": {
      "text/plain": [
       "0.2583751012332214"
      ]
     },
     "execution_count": 81,
     "metadata": {},
     "output_type": "execute_result"
    }
   ],
   "source": [
    "max(regfit.coef_) # notice the max coefficient size is squashed from the OLS model"
   ]
  },
  {
   "cell_type": "code",
   "execution_count": 88,
   "metadata": {},
   "outputs": [],
   "source": [
    "from sklearn.model_selection import train_test_split\n",
    "\n",
    "#Split the data so the train set contains 60% of the points. Ignore random_state.\n",
    "split = 0.4\n",
    "\n",
    "X_trn, X_tst, Y_trn, Y_tst = train_test_split(df[top_feats], df['retweets'], test_size=split, random_state=42)"
   ]
  },
  {
   "cell_type": "code",
   "execution_count": 89,
   "metadata": {},
   "outputs": [
    {
     "name": "stdout",
     "output_type": "stream",
     "text": [
      "The R2 score on the training set: 0.6866549902155998\n",
      "The R2 score on the testing set: 0.24637485074759602\n"
     ]
    }
   ],
   "source": [
    "#Create the model and fit it to the TRAIN SET\n",
    "linear_regression_model = sk.linear_model.LinearRegression()\n",
    "model = linear_regression_model.fit(X_trn, Y_trn)\n",
    "\n",
    "#Evaluate the model on each set\n",
    "print(\"The R2 score on the training set:\", model.score(X_trn, Y_trn))\n",
    "print(\"The R2 score on the testing set:\", model.score(X_tst, Y_tst))"
   ]
  },
  {
   "cell_type": "code",
   "execution_count": 90,
   "metadata": {},
   "outputs": [
    {
     "data": {
      "text/plain": [
       "['my_linear_model.pkl']"
      ]
     },
     "execution_count": 90,
     "metadata": {},
     "output_type": "execute_result"
    }
   ],
   "source": [
    "from sklearn.externals import joblib\n",
    "joblib.dump(regfit, 'my_linear_model.pkl') "
   ]
  },
  {
   "cell_type": "code",
   "execution_count": 85,
   "metadata": {},
   "outputs": [],
   "source": [
    "my_new_linear_model = joblib.load('my_linear_model.pkl') "
   ]
  }
 ],
 "metadata": {
  "kernelspec": {
   "display_name": "Python 3",
   "language": "python",
   "name": "python3"
  },
  "language_info": {
   "codemirror_mode": {
    "name": "ipython",
    "version": 3
   },
   "file_extension": ".py",
   "mimetype": "text/x-python",
   "name": "python",
   "nbconvert_exporter": "python",
   "pygments_lexer": "ipython3",
   "version": "3.7.6"
  }
 },
 "nbformat": 4,
 "nbformat_minor": 4
}
